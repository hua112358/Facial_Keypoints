{
 "cells": [
  {
   "cell_type": "code",
   "execution_count": 11,
   "metadata": {},
   "outputs": [],
   "source": [
    "import torch\n",
    "import pandas as pd\n",
    "import os\n",
    "import matplotlib.pyplot as plt\n",
    "%matplotlib inline\n",
    "import cv2\n",
    "import numpy as np\n",
    "import torchvision"
   ]
  },
  {
   "cell_type": "code",
   "execution_count": 77,
   "metadata": {},
   "outputs": [],
   "source": [
    "class FacialKeypointsDataset(torch.utils.data.Dataset):\n",
    "    def __init__(self, csv_file, root_dir, transform = None):\n",
    "        self.keypoints_df = pd.read_csv(csv_file)\n",
    "        self.root_dir = root_dir\n",
    "        self.transform = transform\n",
    "    def __len__(self):\n",
    "        return len(self.keypoints_df)\n",
    "    def __getitem__(self, index):\n",
    "        image_name = os.path.join(self.root_dir, self.keypoints_df.iloc[index, 0])\n",
    "        image = plt.imread(image_name)\n",
    "        if image.shape[2] == 4:\n",
    "            image = image[:, :, :3]\n",
    "        keypoints = self.keypoints_df.iloc[index, 1:].values.reshape(-1, 2).astype(\"float\")\n",
    "        sample = {\"image\": image, \"keypoints\": keypoints}\n",
    "        if self.transform:\n",
    "            sample = self.transform(sample)\n",
    "        return sample\n",
    "\n",
    "class Resize(object):\n",
    "    def __init__(self, output_size):\n",
    "        self.output_size = output_size\n",
    "    def __call__(self, sample):\n",
    "        image, keypoints = sample[\"image\"], sample[\"keypoints\"]\n",
    "        h, w = image.shape[:2]\n",
    "        if h > w:\n",
    "            new_h, new_w = self.output_size * h / w, self.output_size\n",
    "        else:\n",
    "            new_h, new_w = self.output_size, self.output_size * w / h\n",
    "        new_h, new_w = int(new_h), int(new_w)\n",
    "        image = cv2.cvtColor(image, cv2.COLOR_RGB2GRAY)\n",
    "        image = cv2.resize(image, (new_w, new_h))\n",
    "        keypoints = keypoints * [new_w / w, new_h / h]\n",
    "        return {\"image\": image, \"keypoints\": keypoints}\n",
    "    \n",
    "class Crop(object):\n",
    "    def __init__(self, output_size):\n",
    "        self.output_size = output_size\n",
    "    def __call__(self, sample):\n",
    "        image, keypoints = sample[\"image\"], sample[\"keypoints\"]\n",
    "        h, w = image.shape[:2]\n",
    "        new_h, new_w = self.output_size, self.output_size\n",
    "        top, left = np.random.randint(0, h - new_h), np.random.randint(0, w - new_w)\n",
    "        image = image[top:top + new_h, left:left + new_w]\n",
    "        keypoints = keypoints - [top, left]\n",
    "        return {\"image\": image, \"keypoints\": keypoints}\n",
    "    \n",
    "class Normalize(object):\n",
    "    def __call__(self, sample):\n",
    "        image, keypoints = sample[\"image\"], sample[\"keypoints\"]\n",
    "        image = image / 255.0\n",
    "        keypoints = (keypoints - 100) / 50.0\n",
    "        return {\"image\": image, \"keypoints\": keypoints}\n",
    "    \n",
    "class ToTensor(object):\n",
    "    def __call__(self, sample):\n",
    "        image, keypoints = sample[\"image\"], sample[\"keypoints\"]\n",
    "        if len(image.shape) == 2:\n",
    "            image = image.reshape(image.shape[0], image.shape[1], 1)\n",
    "        image = image.transpose((2, 0, 1))\n",
    "        return {\"image\": torch.from_numpy(image), \"keypoints\": torch.from_numpy(keypoints)}"
   ]
  },
  {
   "cell_type": "code",
   "execution_count": 80,
   "metadata": {},
   "outputs": [
    {
     "name": "stdout",
     "output_type": "stream",
     "text": [
      "torch.Size([4, 1, 224, 224]) torch.Size([4, 68, 2])\n",
      "torch.Size([4, 1, 224, 224]) torch.Size([4, 68, 2])\n"
     ]
    }
   ],
   "source": [
    "transform = torchvision.transforms.Compose([Resize(250), Crop(224), Normalize(), ToTensor()])\n",
    "dataset = FacialKeypointsDataset(csv_file=\"data/training_frames_keypoints.csv\", \n",
    "                                 root_dir=\"data/training/\", \n",
    "                                 transform=transform)\n",
    "# dataloader = torch.utils.data.DataLoader(dataset, 4, True, num_workers=4) # multiprocessing with num_workers = 4 would lead to broken pipe error\n",
    "dataloader = torch.utils.data.DataLoader(dataset, 4, True, num_workers=0)\n",
    "\n",
    "for step, data in enumerate(dataloader):\n",
    "    if step == 2:\n",
    "        break\n",
    "    print(data[\"image\"].shape, data[\"keypoints\"].shape)"
   ]
  },
  {
   "cell_type": "code",
   "execution_count": null,
   "metadata": {},
   "outputs": [],
   "source": []
  }
 ],
 "metadata": {
  "kernelspec": {
   "display_name": "Python 3",
   "language": "python",
   "name": "python3"
  },
  "language_info": {
   "codemirror_mode": {
    "name": "ipython",
    "version": 3
   },
   "file_extension": ".py",
   "mimetype": "text/x-python",
   "name": "python",
   "nbconvert_exporter": "python",
   "pygments_lexer": "ipython3",
   "version": "3.6.5"
  }
 },
 "nbformat": 4,
 "nbformat_minor": 2
}
